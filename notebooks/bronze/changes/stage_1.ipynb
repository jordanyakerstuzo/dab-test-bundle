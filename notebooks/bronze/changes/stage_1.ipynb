{
 "cells": [
  {
   "cell_type": "markdown",
   "metadata": {
    "application/vnd.databricks.v1+cell": {
     "cellMetadata": {},
     "inputWidgets": {},
     "nuid": "cc0ac0b0-88b1-41f6-bc69-742e97a9794e",
     "showTitle": false,
     "title": ""
    }
   },
   "source": [
    "\n",
    "# Changes - Stage 1 (Bronze)"
   ]
  },
  {
   "cell_type": "markdown",
   "metadata": {
    "application/vnd.databricks.v1+cell": {
     "cellMetadata": {},
     "inputWidgets": {},
     "nuid": "46359eb4-1e1e-4a0a-ba38-cb61b2c92bbf",
     "showTitle": false,
     "title": ""
    }
   },
   "source": [
    "### Import Libraries"
   ]
  },
  {
   "cell_type": "code",
   "execution_count": 0,
   "metadata": {
    "application/vnd.databricks.v1+cell": {
     "cellMetadata": {},
     "inputWidgets": {},
     "nuid": "4dbe929b-fc19-47d4-8b69-49e88991e686",
     "showTitle": false,
     "title": ""
    }
   },
   "outputs": [],
   "source": [
    "import json\n",
    "\n",
    "from open_commerce_data_pipelines.core.pipelines.bronze.changes import CdcChangesBronzeStage1Pipeline, \\\n",
    "    CdcChangesBronzeStage1PipelineConfig"
   ]
  },
  {
   "cell_type": "markdown",
   "metadata": {
    "application/vnd.databricks.v1+cell": {
     "cellMetadata": {},
     "inputWidgets": {},
     "nuid": "d0beb20f-66b4-4e7d-9859-4693180024ca",
     "showTitle": false,
     "title": ""
    }
   },
   "source": [
    "\n",
    "### Widget Definitions"
   ]
  },
  {
   "cell_type": "code",
   "execution_count": 0,
   "metadata": {
    "application/vnd.databricks.v1+cell": {
     "cellMetadata": {},
     "inputWidgets": {},
     "nuid": "0edd678a-24c8-447a-93b2-eb55579218ca",
     "showTitle": false,
     "title": ""
    }
   },
   "outputs": [],
   "source": [
    "dbutils.widgets.text(\"bronze_database_path\", \"\", \"Bronze-Tier Database Path\")\n",
    "dbutils.widgets.text(\"changes_raw_input_region\", \"us-east-1\", \"Raw Changes Input Stream Region\")\n",
    "dbutils.widgets.text(\"changes_raw_input_stream\", \"\", \"Raw Changes Input Stream Name\")\n",
    "dbutils.widgets.text(\"changes_raw_input_stream_opts\", \"{}\", \"Raw Changes Input Stream Options\")"
   ]
  },
  {
   "cell_type": "markdown",
   "metadata": {
    "application/vnd.databricks.v1+cell": {
     "cellMetadata": {},
     "inputWidgets": {},
     "nuid": "7ee25888-ac2b-427d-a138-60fe52307346",
     "showTitle": false,
     "title": ""
    }
   },
   "source": [
    "### Configuration Parameters"
   ]
  },
  {
   "cell_type": "code",
   "execution_count": 0,
   "metadata": {
    "application/vnd.databricks.v1+cell": {
     "cellMetadata": {},
     "inputWidgets": {},
     "nuid": "3f038494-c021-41f0-b4c6-7c1e2288fffe",
     "showTitle": false,
     "title": ""
    }
   },
   "outputs": [],
   "source": [
    "BRONZE_DATABASE_LOCATION = dbutils.widgets.get(\"bronze_database_path\")\n",
    "if not BRONZE_DATABASE_LOCATION:\n",
    "    raise RuntimeError(\"bronze_database_path is required\")\n",
    "print(f\"BRONZE_DATABASE_LOCATION={BRONZE_DATABASE_LOCATION}\")\n",
    "\n",
    "CHANGES_RAW_INPUT_REGION = dbutils.widgets.get(\"changes_raw_input_region\")\n",
    "print(f\"CHANGES_RAW_INPUT_REGION={CHANGES_RAW_INPUT_REGION}\")\n",
    "\n",
    "CHANGES_RAW_INPUT_STREAM = dbutils.widgets.get(\"changes_raw_input_stream\")\n",
    "if not CHANGES_RAW_INPUT_STREAM:\n",
    "    raise RuntimeError(\"changes_raw_input_stream is required\")\n",
    "print(f\"CHANGES_RAW_INPUT_STREAM={CHANGES_RAW_INPUT_STREAM}\")\n",
    "\n",
    "CHANGES_RAW_INPUT_STREAM_OPTS = dbutils.widgets.get(\"changes_raw_input_stream_opts\")\n",
    "print(f\"CHANGES_RAW_INPUT_STREAM_OPTS={CHANGES_RAW_INPUT_STREAM_OPTS}\")"
   ]
  },
  {
   "cell_type": "markdown",
   "metadata": {
    "application/vnd.databricks.v1+cell": {
     "cellMetadata": {},
     "inputWidgets": {},
     "nuid": "dc21f4df-2fac-45ba-a294-2dd04b8efabe",
     "showTitle": false,
     "title": ""
    }
   },
   "source": [
    "### Pipeline Invocation"
   ]
  },
  {
   "cell_type": "code",
   "execution_count": 0,
   "metadata": {
    "application/vnd.databricks.v1+cell": {
     "cellMetadata": {},
     "inputWidgets": {},
     "nuid": "4c2f0b60-c653-414f-9547-5f9a3311df8a",
     "showTitle": false,
     "title": ""
    }
   },
   "outputs": [],
   "source": [
    "if CHANGES_RAW_INPUT_STREAM_OPTS:\n",
    "    opts = json.loads(CHANGES_RAW_INPUT_STREAM_OPTS)\n",
    "\n",
    "    config = CdcChangesBronzeStage1PipelineConfig(changes_raw_input_region=CHANGES_RAW_INPUT_REGION,\n",
    "                                                  input_location=CHANGES_RAW_INPUT_STREAM,\n",
    "                                                  output_database_location=BRONZE_DATABASE_LOCATION,\n",
    "                                                  **opts)\n",
    "else:\n",
    "    config = CdcChangesBronzeStage1PipelineConfig(changes_raw_input_region=CHANGES_RAW_INPUT_REGION,\n",
    "                                                  input_location=CHANGES_RAW_INPUT_STREAM,\n",
    "                                                  output_database_location=BRONZE_DATABASE_LOCATION)\n",
    "\n",
    "pipeline = CdcChangesBronzeStage1Pipeline(config)"
   ]
  },
  {
   "cell_type": "code",
   "execution_count": 0,
   "metadata": {
    "application/vnd.databricks.v1+cell": {
     "cellMetadata": {},
     "inputWidgets": {},
     "nuid": "79aac016-38de-4d3d-a0dc-0b08f662f81a",
     "showTitle": false,
     "title": ""
    }
   },
   "outputs": [],
   "source": [
    "query = pipeline.run()\n",
    "if not query.awaitTermination(21600):\n",
    "    query.stop()"
   ]
  }
 ],
 "metadata": {
  "application/vnd.databricks.v1+notebook": {
   "dashboards": [],
   "language": "python",
   "notebookMetadata": {
    "pythonIndentUnit": 4
   },
   "notebookName": "stage_1",
   "widgets": {}
  }
 },
 "nbformat": 4,
 "nbformat_minor": 0
}